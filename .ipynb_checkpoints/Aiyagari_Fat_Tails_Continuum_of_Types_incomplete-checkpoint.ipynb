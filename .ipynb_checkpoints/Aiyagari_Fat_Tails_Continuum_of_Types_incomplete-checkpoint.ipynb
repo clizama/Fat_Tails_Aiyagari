{
 "cells": [
  {
   "cell_type": "markdown",
   "metadata": {
    "slideshow": {
     "slide_type": "-"
    }
   },
   "source": [
    "Aiyagari With Fat Tailed Wealth distribution with a Continuum of Types \n",
    "============================================  \n",
    "\n",
    "Carlos Lizama\n",
    "\n",
    "The system to be solve is the following:\n",
    "\\begin{align*}\n",
    "\\rho v(a,z) & = \\max_{c,0 \\leq k \\leq a+\\phi} u(c) + v_a(a,z) (wz + ra + (R-r)k - c) + \\frac{1}{2} \\partial_{aa}v(a,z) \\sigma^2 k^2 + \\mu(z) \\partial_z v(a,z) + \\frac{\\sigma_z^2}{2} \\partial_{zz} v(a,z) \\\\\n",
    "0 & = - \\frac{d}{da} [s_(a)g_(a,z)] + \\frac{1}{2} \\frac{d^2}{da^2} [\\sigma^2 k(a,z)^2 g(a,z)] - \\partial_z [\\mu(z) g(a,z)] + \\frac{1}{2} \\partial_{zz} [\\sigma_z^2 g(a,z)]\n",
    "\\end{align*}\n",
    "\n"
   ]
  },
  {
   "cell_type": "markdown",
   "metadata": {},
   "source": [
    "### Parameters of the economy, primitives and grids"
   ]
  },
  {
   "cell_type": "code",
   "execution_count": 1,
   "metadata": {
    "collapsed": false
   },
   "outputs": [],
   "source": [
    "\"\"\"\n",
    "Define type FatTailContTypes\n",
    "    \n",
    "    # parameters of the economy\n",
    "    γ::Float64           # CRRA paramter\n",
    "    ρ::Float64           # discount rate\n",
    "    ϕ::Float64           # borrowing limit\n",
    "    θ::Float64           # persistence of productivity process\n",
    "    σz::Float64          # variance of productivity process\n",
    "\n",
    "    # parameters of the algorithm\n",
    "    maxiter::Int64       # maximum number of interation\n",
    "    tol::Float64         # tolerance of the algorithm. When the distance in two iteration is lower, stop.\n",
    "    Δ::Float64           # step of the algorithm. See discussion of this parameter in the paper.\n",
    "\n",
    "    # parameters of the economy: partial equilibrium\n",
    "    w::Float64           # wage\n",
    "    R::Float64           # Mean of interest rate of risky asset\n",
    "    r::Float64           # risk free rate\n",
    "\n",
    "    # other parameters\n",
    "    η::Float64           # tail parameter of wealth distribution. I changed this greek letter, previously ζ.\n",
    "    σ²::Float64          # variance of risky asset\n",
    "    cslope::Float64      # slope of policy function for consumption, derived theoretically in the paper.\n",
    "\n",
    "    # grid parameters\n",
    "    I::Int64             # number of points in asset grid\n",
    "    J::Int64             # number of points in productivity grid\n",
    "    z::Arra{Float64,1}   # productivity grid\n",
    "    a::Array{Float64,1}  # asset grid\n",
    "\n",
    "    # value functions and policy functions. Construct Aswitch matrix, matrix wi\n",
    "    c::Array{Float64,2}        # policy function: consumption\n",
    "    k::Array{Float64,2}        # policy function: risky asset\n",
    "    v::Array{Float64,2}        # value function.\n",
    "    C::Array{Float64,2}        # Matrix used in Kolmogorov Forward eq.\n",
    "\n",
    "\"\"\"\n",
    "type FatTailContTypes\n",
    "    \n",
    "    # parameters of the economy\n",
    "    γ::Float64\n",
    "    ρ::Float64\n",
    "    ϕ::Float64\n",
    "    θ::Float64\n",
    "    σz::Float64\n",
    "    \n",
    "    # parameters of the economy: partial equilibrium\n",
    "    w::Float64\n",
    "    R::Float64\n",
    "    r::Float64\n",
    "    \n",
    "    # other parameters\n",
    "    η::Float64\n",
    "    σ²::Float64\n",
    "    cslope::Float64\n",
    "    \n",
    "    # grid parameters\n",
    "    I::Int64\n",
    "    J::Int64\n",
    "    z::Array{Float64,1}\n",
    "    a::Array{Float64,1}\n",
    "    \n",
    "    # value functions and policy functions. Construct Aswitch matrix, matrix wi\n",
    "    c::Array{Float64,2}\n",
    "    k::Array{Float64,2}\n",
    "    v::Array{Float64,2}\n",
    "    C::SparseMatrixCSC{Float64,Int64}\n",
    "    A::SparseMatrixCSC{Float64,Int64}\n",
    "end"
   ]
  },
  {
   "cell_type": "code",
   "execution_count": 2,
   "metadata": {
    "collapsed": false
   },
   "outputs": [
    {
     "ename": "LoadError",
     "evalue": "LoadError: syntax: unexpected ,\nwhile loading In[2], in expression starting on line 4",
     "output_type": "error",
     "traceback": [
      "LoadError: syntax: unexpected ,\nwhile loading In[2], in expression starting on line 4",
      ""
     ]
    }
   ],
   "source": [
    "\"\"\"\n",
    "Constructor of AiyagariFatTail type. It constructs the object with default values according to the paper.\n",
    "\"\"\"\n",
    "function FatTailContTypes(;γ=2., ρ=.05, ϕ=0.3, θ=.3, σz=.1, w=3, R=.051, r=.041, η=2.5, I=5000, J=40, \n",
    "    zmin=.5, zmax = 1.5, zmean=1., amax=1000)\n",
    "    \n",
    "    σ² = (η/γ + 1)*(R-r)^2/(2*(ρ-r))\n",
    "    cslope = (ρ - (1-γ)*r)/γ - (1-γ)/(2*γ)*(R-r)^2/(γ*σ²)\n",
    "    \n",
    "    amin = -ϕ\n",
    "    \n",
    "    # define grid for asset\n",
    "    x = linspace(0,1,I)\n",
    "    coeff = 5\n",
    "    power = 10\n",
    "    xx = x + coeff*x.^power\n",
    "    xmax = maximum(xx)\n",
    "    xmin = minimum(xx)\n",
    "    a = (amax-amin)/(xmax - xmin)*xx + amin\n",
    "    \n",
    "    # define grid for productivity types\n",
    "    z = linspace(zmin, zmax, J)\n",
    "    Δz = (zmax-zmin)/(J-1)\n",
    "    \n",
    "    # initialize value function and policy functions\n",
    "    c = zeros(I,J)\n",
    "    k = zeros(I,J)\n",
    "    v = zeros(I,J)\n",
    "\n",
    "    # define matrix C\n",
    "    χ = ones(J)*σz^2/(2*(Δz)^2)\n",
    "    υ = - θ*(zmean-z)/Δz - ones(J)*σz^2/(Δz)^2\n",
    "    ζ = θ*(zmean-z)/Δz + ones(J)*σz^2/(2*(Δz)^2)\n",
    "    C = spdiagm(υ,0,J,J) + spdiagm(χ[2:end],-1,J,J) + spdiagm(ζ[1:end-1],1,J,J)\n",
    "    C[1,1] = C[1,1] + χ[1]\n",
    "    C[J,J] = C[J,J] + ζ[J]\n",
    "    C = kron(C,speye(I))\n",
    "    A = speye(I*J)\n",
    "\n",
    "    FatTailContTypes(γ, ρ, ϕ, θ, σz, w, R, r, η, σ², cslope, I, J, z, a, c, k, v, C, A)\n",
    "    \n",
    "end"
   ]
  },
  {
   "cell_type": "code",
   "execution_count": 3,
   "metadata": {
    "collapsed": false
   },
   "outputs": [
    {
     "data": {
      "text/plain": [
       "unpack (generic function with 1 method)"
      ]
     },
     "execution_count": 3,
     "metadata": {},
     "output_type": "execute_result"
    }
   ],
   "source": [
    "\"\"\"\n",
    "This function unpacks the elements inside the AiyagariFatTail type.\n",
    "\"\"\"\n",
    "function unpack(h::FatTailContTypes)\n",
    "    return h.γ, h.ρ, h.ϕ, h.θ, h.σz, h.w, h.R, h.r, h.η, h.σ², h.cslope, h.I, h.J, h.z, h.a, h.c, h.k, h.v, h.C, h.A    \n",
    "end"
   ]
  },
  {
   "cell_type": "code",
   "execution_count": 4,
   "metadata": {
    "collapsed": false
   },
   "outputs": [
    {
     "data": {
      "text/plain": [
       "solveHJB! (generic function with 1 method)"
      ]
     },
     "execution_count": 4,
     "metadata": {},
     "output_type": "execute_result"
    }
   ],
   "source": [
    "\"\"\"\n",
    "This function solves the Hamilton-Jacobi-Bellman equation.\n",
    "\"\"\"\n",
    "function solveHJB!(h::FatTailContTypes)\n",
    "    γ, ρ, ϕ, θ, σz, w, R, r, η, σ², cslope, I, J, z, a, c, k, v, C, A = unpack(h)\n",
    "    amax = maximum(a)\n",
    "    \n",
    "    # create (square) grids\n",
    "    aa = repmat(a,1,J)\n",
    "    zz = repmat(z',I,1)\n",
    "    \n",
    "    # initial guess\n",
    "    v = (w*zz + r*aa).^(1-γ)/(ρ*(1-γ))\n",
    "    \n",
    "    # forward and backward differences of the grid\n",
    "    daf = ones(I)\n",
    "    dab = ones(I)\n",
    "    daf[1:I-1] = a[2:I]-a[1:I-1]\n",
    "    dab[2:I] = a[2:I]-a[1:I-1]\n",
    "    daf[I] = daf[I-1]\n",
    "    dab[1] = dab[2]\n",
    "\n",
    "    daaf = repmat(daf,1,J)\n",
    "    daab = repmat(dab,1,J)\n",
    "\n",
    "    # objects for approximation of second derivatives (see expresion for approx. second derivatives in the pdf file)\n",
    "    denom = (daaf + daab).*(daab.*daaf)/2\n",
    "    weightf = daab./denom\n",
    "    weight0 = -(daab + daaf)./denom\n",
    "    weightb = daaf./denom\n",
    "    \n",
    "    # initialize value function and policy functions\n",
    "    dVf = zeros(I,J)\n",
    "    dVb = zeros(I,J)\n",
    "    dV0 = zeros(I,J)\n",
    "    dV2f = zeros(I,J)\n",
    "    dV2b = zeros(I,J)\n",
    "    c = zeros(I,J)\n",
    "    c0 = zeros(I,J)\n",
    "    v0 = zeros(I,J)\n",
    "    ssb = zeros(I,J)\n",
    "    ssf = zeros(I,J)\n",
    "    k = zeros(I,J)    \n",
    "    \n",
    "    Δ = 1000\n",
    "    iter = 0\n",
    "    dist = 1\n",
    "    tol = 1e-6\n",
    "    while dist>tol\n",
    "    \n",
    "        V = copy(v)\n",
    "        \n",
    "        # forward difference\n",
    "        dVf[1:I-1,:] = (V[2:I,:] - V[1:I-1,:])./(aa[2:I,:]-aa[1:I-1,:])\n",
    "        dVf[I,:] = (w*z' + r*amax).^(-γ)*(1-(R-r)^2/(cslope*γ*σ²))^(γ) # upper boundary condition\n",
    "\n",
    "        # backward difference\n",
    "        dVb[2:I,:] = (V[2:I,:] - V[1:I-1,:])./(aa[2:I,:]-aa[1:I-1,:])\n",
    "        dVb[1,:] = (w*z' + r*a[1]).^(-γ)  # lower boundary condition\n",
    "\n",
    "        # second derivative (forward and backward only differ at amax)\n",
    "        dV2b[2:I-1,:] = (daab[2:I-1,:].*V[3:I,:]-(daab[2:I-1,:]+daaf[2:I-1,:]).*V[2:I-1,:]+daaf[2:I-1,:].*V[1:I-2,:])./\n",
    "        denom[2:I-1,:]\n",
    "        dV2f[2:I-1,:] = (daab[2:I-1,:].*V[3:I,:]-(daab[2:I-1,:]+daaf[2:I-1,:]).*V[2:I-1,:]+daaf[2:I-1,:].*V[1:I-2,:])./\n",
    "        denom[2:I-1,:]\n",
    "        dV2b[I,:] = -γ*dVb[I,:].^(1+1/γ)*cslope  # boundary condition for second derivative\n",
    "        dV2f[I,:] = -γ*dVf[I,:].^(1+1/γ)*cslope\n",
    "\n",
    "        I_concave = dVb .> dVf  # check whether value function is concave (problems arise if this is not the case)\n",
    "\n",
    "        # consumption and savings with forward difference\n",
    "        cf = dVf.^(-1/γ)\n",
    "        kf = max(- dVf./dV2f*(R-r)/σ²,0)\n",
    "        kf = min(kf,aa+ϕ)\n",
    "        ssf = w*zz + (R-r)*kf + r*aa - cf\n",
    "\n",
    "        # consumption and savings with backward difference\n",
    "        cb = dVb.^(-1/γ)\n",
    "        kb = max(- dVb./dV2b*(R-r)/σ²,0)\n",
    "        kb = min(kb,aa+ϕ)\n",
    "        ssb = w*zz + (R-r)*kb + r*aa - cb\n",
    "\n",
    "        # consumption and derivative of value function at steady state\n",
    "        k0 = (kb+kf)/2\n",
    "        c0 = w*zz + (R-r)*k0 + r*aa\n",
    "        dV0 = c0.^(-γ)\n",
    "\n",
    "        # Upwind scheme\n",
    "        If = 1*(ssf.>1e-12)\n",
    "        Ib = 1*(ssb.<-1e-12)\n",
    "        I0 = (1-If-Ib)\n",
    "        dV_Upwind = dVf.*If + dVb.*Ib + dV0.*I0\n",
    "        c = dV_Upwind.^(-1/γ)\n",
    "        u = c.^(1-γ)/(1-γ)\n",
    "        k = max(-dV_Upwind./dV2b*(R-r)/σ²,0)\n",
    "        k = min(k,aa+ϕ)\n",
    "\n",
    "        # Construct matrix A\n",
    "        X = -min(ssb,0)./daab + σ²/2*k.^2.*weightb\n",
    "        Y = -max(ssf,0)./daaf + min(ssb,0)./daab + σ²/2*k.^2.*weight0\n",
    "        Z = max(ssf,0)./daaf + σ²/2*k.^2.*weightf\n",
    "        # boundary conditions at the top\n",
    "        xi = -dVb[I,:].^(-1/γ)/cslope*(R-r)^2/(2*γ*σ²)\n",
    "        X[I,:] = -min(ssb[I,:],0)./daab[I,:] - xi./daab[I,:]\n",
    "        Y[I,:] = -max(ssf[I,:],0)./daaf[I,:] + min(ssb[I,:],0)./daab[I,:] + xi./daab[I,:]\n",
    "        Z[I,:] = max(ssf[I,:],0)./daaf[I,:]\n",
    "        X[1,:] = 0\n",
    "        Z[I,:] = 0\n",
    "        X = X[:]\n",
    "        X = X[2:end]\n",
    "        Y = Y[:]\n",
    "        Z = Z[:]\n",
    "        Z = Z[1:end-1]\n",
    "        \n",
    "        A = spdiagm(X,-1,I*J,I*J) + spdiagm(Y,0,I*J,I*J) + spdiagm(Z,1,I*J,I*J) + C\n",
    "\n",
    "        B = (1/Δ + ρ)*speye(Float64,I*J) - A\n",
    "        u_stacked = u[:]\n",
    "        V_stacked = V[:]\n",
    "        b = u_stacked + V_stacked/Δ\n",
    "\n",
    "        # Solve system of equations\n",
    "        V_stacked = B\\b\n",
    "        V = reshape(V_stacked,I,J)\n",
    "\n",
    "        Vchange = V - v\n",
    "\n",
    "        v = copy(V)\n",
    "        iter += 1\n",
    "\n",
    "        dist = norm(Vchange,2)\n",
    "        println(dist)\n",
    "        println(iter)\n",
    "        if dist < tol\n",
    "            break\n",
    "        end\n",
    "        \n",
    "    end\n",
    "    \n",
    "    h.v = v\n",
    "    h.c = c\n",
    "    h.k = k\n",
    "    h.A = A\n",
    "\n",
    "end"
   ]
  },
  {
   "cell_type": "code",
   "execution_count": 5,
   "metadata": {
    "collapsed": false
   },
   "outputs": [
    {
     "data": {
      "text/plain": [
       "solveKF (generic function with 1 method)"
      ]
     },
     "execution_count": 5,
     "metadata": {},
     "output_type": "execute_result"
    }
   ],
   "source": [
    "\"\"\"\n",
    "This function solves the Kolmogorov Forward equation. It receives and AiyagariFatTail type and returns \n",
    "a vector with the stationary distribution for each type (each type one column)\n",
    "\"\"\"\n",
    "function solveKF(h)\n",
    "    \n",
    "    a = h.a\n",
    "    I = h.I\n",
    "    J = h.J\n",
    "    A = h.A\n",
    "    \n",
    "    # forward and backward differences of the grid\n",
    "    daf = ones(I)\n",
    "    dab = ones(I)\n",
    "    daf[1:I-1] = a[2:I]-a[1:I-1]\n",
    "    dab[2:I] = a[2:I]-a[1:I-1]\n",
    "    \n",
    "    # create matrix D\n",
    "    da_tilde = (dab+daf)/2\n",
    "    da_tilde[1] = daf[1]/2\n",
    "    da_tilde[I] = dab[I]/2\n",
    "    da_stacked = squeeze(repmat(da_tilde,J,1),2)\n",
    "    D = spdiagm(da_stacked,0,I*J,I*J)\n",
    "    Atilde = D*A*D.^(-1)\n",
    "    AT = A'\n",
    "\n",
    "    # find distributions, solve Atilda'g = 0\n",
    "    b = zeros(I*J)\n",
    "    b[1] = 1         # need to fix one value, then solve. Otherwise matrix is singular\n",
    "    row = [1 zeros(1,I*J-1)]\n",
    "    AT[1,:] = row\n",
    "\n",
    "    gg = AT\\b\n",
    "    g_sum = gg'*da_stacked\n",
    "    gg = gg/g_sum\n",
    "    g = reshape(gg,I,J)\n",
    "    \n",
    "    return g\n",
    "    \n",
    "end"
   ]
  },
  {
   "cell_type": "code",
   "execution_count": 6,
   "metadata": {
    "collapsed": false
   },
   "outputs": [
    {
     "ename": "LoadError",
     "evalue": "LoadError: MethodError: `convert` has no method matching convert(::Type{FatTailContTypes})\nThis may have arisen from a call to the constructor FatTailContTypes(...),\nsince type constructors fall back to convert methods.\nClosest candidates are:\n  convert{T}(::Type{T}, !Matched::T)\n  FatTailContTypes(, !Matched::Float64, !Matched::Float64, !Matched::Float64, !Matched::Float64, !Matched::Float64, !Matched::Float64, !Matched::Float64, !Matched::Float64, !Matched::Float64, !Matched::Float64, !Matched::Float64, !Matched::Int64, !Matched::Int64, !Matched::Array{Float64,1}, !Matched::Array{Float64,1}, !Matched::Array{Float64,2}, !Matched::Array{Float64,2}, !Matched::Array{Float64,2}, !Matched::SparseMatrixCSC{Float64,Int64}, !Matched::SparseMatrixCSC{Float64,Int64})\n  FatTailContTypes(, !Matched::Any, !Matched::Any, !Matched::Any, !Matched::Any, !Matched::Any, !Matched::Any, !Matched::Any, !Matched::Any, !Matched::Any, !Matched::Any, !Matched::Any, !Matched::Any, !Matched::Any, !Matched::Any, !Matched::Any, !Matched::Any, !Matched::Any, !Matched::Any, !Matched::Any, !Matched::Any)\n  ...\nwhile loading In[6], in expression starting on line 3",
     "output_type": "error",
     "traceback": [
      "LoadError: MethodError: `convert` has no method matching convert(::Type{FatTailContTypes})\nThis may have arisen from a call to the constructor FatTailContTypes(...),\nsince type constructors fall back to convert methods.\nClosest candidates are:\n  convert{T}(::Type{T}, !Matched::T)\n  FatTailContTypes(, !Matched::Float64, !Matched::Float64, !Matched::Float64, !Matched::Float64, !Matched::Float64, !Matched::Float64, !Matched::Float64, !Matched::Float64, !Matched::Float64, !Matched::Float64, !Matched::Float64, !Matched::Int64, !Matched::Int64, !Matched::Array{Float64,1}, !Matched::Array{Float64,1}, !Matched::Array{Float64,2}, !Matched::Array{Float64,2}, !Matched::Array{Float64,2}, !Matched::SparseMatrixCSC{Float64,Int64}, !Matched::SparseMatrixCSC{Float64,Int64})\n  FatTailContTypes(, !Matched::Any, !Matched::Any, !Matched::Any, !Matched::Any, !Matched::Any, !Matched::Any, !Matched::Any, !Matched::Any, !Matched::Any, !Matched::Any, !Matched::Any, !Matched::Any, !Matched::Any, !Matched::Any, !Matched::Any, !Matched::Any, !Matched::Any, !Matched::Any, !Matched::Any, !Matched::Any)\n  ...\nwhile loading In[6], in expression starting on line 3",
      "",
      " in call at essentials.jl:57"
     ]
    }
   ],
   "source": [
    "# solve the model\n",
    "\n",
    "h = FatTailContTypes()\n",
    "@time solveHJB!(h)\n",
    "#@time g = solveKF(h)"
   ]
  },
  {
   "cell_type": "markdown",
   "metadata": {},
   "source": [
    "### Plot results"
   ]
  },
  {
   "cell_type": "code",
   "execution_count": 7,
   "metadata": {
    "collapsed": false
   },
   "outputs": [
    {
     "ename": "LoadError",
     "evalue": "LoadError: UndefVarError: h not defined\nwhile loading In[7], in expression starting on line 3",
     "output_type": "error",
     "traceback": [
      "LoadError: UndefVarError: h not defined\nwhile loading In[7], in expression starting on line 3",
      ""
     ]
    }
   ],
   "source": [
    "using PyPlot\n",
    "\n",
    "asq = repmat(h.a,1,h.J)\n",
    "zsq = repmat(h.z',h.I,1)"
   ]
  },
  {
   "cell_type": "code",
   "execution_count": 8,
   "metadata": {
    "collapsed": false
   },
   "outputs": [
    {
     "ename": "LoadError",
     "evalue": "LoadError: UndefVarError: h not defined\nwhile loading In[8], in expression starting on line 155",
     "output_type": "error",
     "traceback": [
      "LoadError: UndefVarError: h not defined\nwhile loading In[8], in expression starting on line 155",
      ""
     ]
    }
   ],
   "source": [
    "@time g = solveKF(h)"
   ]
  },
  {
   "cell_type": "code",
   "execution_count": 9,
   "metadata": {
    "collapsed": false
   },
   "outputs": [
    {
     "ename": "LoadError",
     "evalue": "LoadError: UndefVarError: asq not defined\nwhile loading In[9], in expression starting on line 1",
     "output_type": "error",
     "traceback": [
      "LoadError: UndefVarError: asq not defined\nwhile loading In[9], in expression starting on line 1",
      ""
     ]
    }
   ],
   "source": [
    "plot_surface(asq, zsq, g, cstride=1, rstride=1)"
   ]
  },
  {
   "cell_type": "code",
   "execution_count": 10,
   "metadata": {
    "collapsed": false
   },
   "outputs": [
    {
     "ename": "LoadError",
     "evalue": "LoadError: UndefVarError: h not defined\nwhile loading In[10], in expression starting on line 2",
     "output_type": "error",
     "traceback": [
      "LoadError: UndefVarError: h not defined\nwhile loading In[10], in expression starting on line 2",
      ""
     ]
    }
   ],
   "source": [
    "x=1\n",
    "plot(h.a,g[:,1])"
   ]
  },
  {
   "cell_type": "code",
   "execution_count": null,
   "metadata": {
    "collapsed": true
   },
   "outputs": [],
   "source": []
  }
 ],
 "metadata": {
  "celltoolbar": "Raw Cell Format",
  "kernelspec": {
   "display_name": "Julia 0.4.3",
   "language": "julia",
   "name": "julia-0.4"
  },
  "language_info": {
   "file_extension": ".jl",
   "mimetype": "application/julia",
   "name": "julia",
   "version": "0.4.3"
  }
 },
 "nbformat": 4,
 "nbformat_minor": 0
}
