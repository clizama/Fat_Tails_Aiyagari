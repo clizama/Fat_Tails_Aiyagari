{
 "cells": [
  {
   "cell_type": "code",
   "execution_count": 1,
   "metadata": {
    "collapsed": false
   },
   "outputs": [
    {
     "data": {
      "text/plain": [
       "5x5 sparse matrix with 4 Float64 entries:\n",
       "\t[2, 1]  =  1.0\n",
       "\t[3, 2]  =  1.0\n",
       "\t[4, 3]  =  1.0\n",
       "\t[5, 4]  =  1.0"
      ]
     },
     "execution_count": 1,
     "metadata": {},
     "output_type": "execute_result"
    }
   ],
   "source": [
    "#  Compute the distribution of x = log(a)\n",
    "\n",
    "# compute da_tilde\n",
    "\n",
    "daf = ones(I)\n",
    "dab = ones(I)\n",
    "daf[1:I-1] = a[2:I]-a[1:I-1]\n",
    "dab[2:I] = a[2:I]-a[1:I-1]\n",
    "\n",
    "da_tilde = (dab+daf)/2\n",
    "da_tilde[1] = daf[1]/2\n",
    "da_tilde[I] = dab[I]/2\n",
    "\n",
    "G = zeros(I,2)\n",
    "for i=1:I\n",
    "    G[i,1] = sum(g[1:i,1].*da_tilde[1:i]) \n",
    "    G[i,2] = sum(g[1:i,2].*da_tilde[1:i])    \n",
    "end\n",
    "\n",
    "f = zeros(I,2)\n",
    "x = log(max(a,0)) \n",
    "dx = zeros(I)\n",
    "\n",
    "for i=2:I\n",
    "    dx[i]= x[i]-x[i-1]\n",
    "    f[i,1] = (G[i,1]-G[i-1,1])/dx[i]\n",
    "    f[i,2] = (G[i,2]-G[i-1,2])/dx[i]\n",
    "end\n",
    "\n",
    "\n",
    "plot(x, log(f[:,1]), \"b\", label=L\"$\\log(f_1(a))$\")\n",
    "plot(x, log(f[:,2]), \"r\", label=L\"$\\log(f_2(a))$\")\n",
    "plot(x, -ζ*x, \"k--\", lw=2)\n",
    "xlim((-4,8))\n",
    "ylim((-10,0))\n",
    "xlabel(L\"$x=\\log(a)$\")\n",
    "ylabel(L\"$\\log (f_i(x))$\")\n",
    "legend(loc=\"upper right\")"
   ]
  }
 ],
 "metadata": {
  "kernelspec": {
   "display_name": "Julia 0.4.3",
   "language": "julia",
   "name": "julia-0.4"
  },
  "language_info": {
   "file_extension": ".jl",
   "mimetype": "application/julia",
   "name": "julia",
   "version": "0.4.3"
  }
 },
 "nbformat": 4,
 "nbformat_minor": 0
}
